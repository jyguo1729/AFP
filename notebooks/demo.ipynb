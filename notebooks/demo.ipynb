{
 "cells": [
  {
   "cell_type": "markdown",
   "metadata": {},
   "source": [
    "# this notebook shows backtestlib.optimizer.BenchMark etc."
   ]
  },
  {
   "cell_type": "code",
   "execution_count": 18,
   "metadata": {},
   "outputs": [
    {
     "name": "stdout",
     "output_type": "stream",
     "text": [
      "The autoreload extension is already loaded. To reload it, use:\n",
      "  %reload_ext autoreload\n"
     ]
    }
   ],
   "source": [
    "import sys\n",
    "sys.path.insert(0, \"..\")\n",
    "\n",
    "import logging as log\n",
    "log.basicConfig(level = log.INFO, stream=sys.stdout,\\\n",
    "                format='backtest-%(asctime)s-%(funcName)s: %(message)s', \\\n",
    "                datefmt='%Y-%b-%d %H:%M:%S')\n",
    "from  backtestlib.optimizer import BenchMark, SampleBased, SpectralCut, SpectralSelection,ShrinkToIdentity,POET\n",
    "import pandas as pd\n",
    "import numpy as np\n",
    "import numpy.linalg as LA\n",
    "%load_ext autoreload\n",
    "%autoreload 2"
   ]
  },
  {
   "cell_type": "code",
   "execution_count": 19,
   "metadata": {},
   "outputs": [
    {
     "data": {
      "text/plain": [
       "AAPL      1.0\n",
       "GOOGLE    2.0\n",
       "MMM       2.0\n",
       "BAC       1.5\n",
       "GS       -0.2\n",
       "dtype: float64"
      ]
     },
     "execution_count": 19,
     "metadata": {},
     "output_type": "execute_result"
    }
   ],
   "source": [
    "signal = pd.Series(data = [1,2,2,1.5,-.2],index = ['AAPL','GOOGLE','MMM','BAC','GS'])\n",
    "signal"
   ]
  },
  {
   "cell_type": "code",
   "execution_count": 26,
   "metadata": {},
   "outputs": [
    {
     "data": {
      "text/plain": [
       "array([[ 9.39108912e-01, -7.45041968e-03, -2.83134286e-02,\n",
       "        -8.44307014e-03,  6.24612559e-04],\n",
       "       [-7.45041968e-03,  8.62720972e-01, -2.20134863e-01,\n",
       "         4.85521710e-02,  2.43102080e-01],\n",
       "       [-2.83134286e-02, -2.20134863e-01,  7.16141932e-01,\n",
       "         1.33318276e-02, -1.19808125e-01],\n",
       "       [-8.44307014e-03,  4.85521710e-02,  1.33318276e-02,\n",
       "         8.53522473e-01,  5.64317563e-02],\n",
       "       [ 6.24612559e-04,  2.43102080e-01, -1.19808125e-01,\n",
       "         5.64317563e-02,  9.83826046e-01]])"
      ]
     },
     "execution_count": 26,
     "metadata": {},
     "output_type": "execute_result"
    }
   ],
   "source": [
    "c = 0.02\n",
    "r = 0.00\n",
    "n = 50\n",
    "p = len(signal)\n",
    "\n",
    "rand = np.random.RandomState(1233)\n",
    "true_var = np.diag(np.ones(p))*(1-c) + c*np.ones((p,p))\n",
    "true_mu = np.ones(p)*r\n",
    "\n",
    "returns = rand.multivariate_normal(true_mu, true_var, n).T\n",
    "sample_var =(returns@returns.T)/n\n",
    "sample_var"
   ]
  },
  {
   "cell_type": "code",
   "execution_count": 21,
   "metadata": {},
   "outputs": [
    {
     "name": "stdout",
     "output_type": "stream",
     "text": [
      "backtest-2021-Feb-23 22:53:52-__init__: BenchMark initialized\n"
     ]
    },
    {
     "data": {
      "text/plain": [
       "array([0.2, 0.2, 0.2, 0.2, 0.2])"
      ]
     },
     "execution_count": 21,
     "metadata": {},
     "output_type": "execute_result"
    }
   ],
   "source": [
    "opt = BenchMark()\n",
    "opt.optimize(signal = signal)"
   ]
  },
  {
   "cell_type": "code",
   "execution_count": 22,
   "metadata": {},
   "outputs": [
    {
     "name": "stdout",
     "output_type": "stream",
     "text": [
      "backtest-2021-Feb-23 22:53:52-__init__: SampleBased initialized\n"
     ]
    },
    {
     "data": {
      "text/plain": [
       "array([ 0.13203564,  0.36667792,  0.40506277,  0.16931761, -0.07309393])"
      ]
     },
     "execution_count": 22,
     "metadata": {},
     "output_type": "execute_result"
    }
   ],
   "source": [
    "opt = SampleBased()\n",
    "opt.optimize(signal = signal,sample_var = sample_var)"
   ]
  },
  {
   "cell_type": "code",
   "execution_count": 23,
   "metadata": {},
   "outputs": [
    {
     "name": "stdout",
     "output_type": "stream",
     "text": [
      "backtest-2021-Feb-23 22:53:52-__init__: SpectralCut initialized with  delta 0.4\n",
      "backtest-2021-Feb-23 22:53:52-optimize: Optimal K is 5\n",
      "backtest-2021-Feb-23 22:53:52-optimize:  return component [-0.56292848  0.56166544 -1.79661716 -0.34753213  2.70352208]\n"
     ]
    },
    {
     "data": {
      "text/plain": [
       "array([ 0.13203564,  0.36667792,  0.40506277,  0.16931761, -0.07309393])"
      ]
     },
     "execution_count": 23,
     "metadata": {},
     "output_type": "execute_result"
    }
   ],
   "source": [
    "opt = SpectralCut(delta = 0.4)\n",
    "opt.optimize(signal = signal,sample_var = sample_var)"
   ]
  },
  {
   "cell_type": "code",
   "execution_count": 24,
   "metadata": {},
   "outputs": [
    {
     "name": "stdout",
     "output_type": "stream",
     "text": [
      "backtest-2021-Feb-23 22:53:52-__init__: ShrinkToIdentity initialized\n",
      "backtest-2021-Feb-23 22:53:52-optimize: shrink coefficients: a 1.708, b 0.3, d 1.734, m 0.858\n"
     ]
    },
    {
     "data": {
      "text/plain": [
       "array([ 0.1141222 ,  0.40128602,  0.42972691,  0.16964652, -0.11478166])"
      ]
     },
     "execution_count": 24,
     "metadata": {},
     "output_type": "execute_result"
    }
   ],
   "source": [
    "opt = ShrinkToIdentity()\n",
    "opt.optimize(signal = signal,returns = returns)"
   ]
  },
  {
   "cell_type": "code",
   "execution_count": 25,
   "metadata": {},
   "outputs": [
    {
     "data": {
      "text/plain": [
       "array([[ 0.89701445,  0.03179858,  0.01591177,  0.01128338,  0.00532491],\n",
       "       [ 0.03179858,  0.85807842, -0.19383822,  0.07485712,  0.26855323],\n",
       "       [ 0.01591177, -0.19383822,  0.71247762,  0.04137074, -0.08119796],\n",
       "       [ 0.01128338,  0.07485712,  0.04137074,  0.85268358,  0.07714038],\n",
       "       [ 0.00532491,  0.26855323, -0.08119796,  0.07714038,  0.968988  ]])"
      ]
     },
     "execution_count": 25,
     "metadata": {},
     "output_type": "execute_result"
    }
   ],
   "source": [
    "opt.get_cov_matrix()"
   ]
  },
  {
   "cell_type": "code",
   "execution_count": 8,
   "metadata": {},
   "outputs": [
    {
     "name": "stdout",
     "output_type": "stream",
     "text": [
      "backtest-2021-Feb-22 01:54:59-__init__: SpectralCut initialized with  delta 0.4, c 10\n",
      "backtest-2021-Feb-22 01:54:59-optimize: Optimal gamma is 0.003\n",
      "backtest-2021-Feb-22 01:54:59-optimize:  return component [-0.56266804  0.55608824 -1.7810237  -0.2796166   1.36131824]\n"
     ]
    },
    {
     "data": {
      "text/plain": [
       "array([ 0.16811186,  0.28152213,  0.30907235,  0.28438214, -0.04308848])"
      ]
     },
     "execution_count": 8,
     "metadata": {},
     "output_type": "execute_result"
    }
   ],
   "source": [
    "opt = SpectralSelection(delta = 0.4, c = 10)\n",
    "opt.optimize(signal = signal,sample_var = sample_var)"
   ]
  },
  {
   "cell_type": "markdown",
   "metadata": {},
   "source": [
    "- To demostrate POET we simulate returns via a factor model of K factors such that K << p~n\n",
    "- K: number of factors, p asset numbers, n time periods\n",
    "-  about C: a good choice of C is chosen such that offdiagnal f-norm under is between 0.0 and its maximum"
   ]
  },
  {
   "cell_type": "code",
   "execution_count": 14,
   "metadata": {},
   "outputs": [],
   "source": [
    "c = 0.3\n",
    "n = 200\n",
    "p = 100\n",
    "\n",
    "rand = np.random.RandomState(1234)\n",
    "temp = rand.normal(size = (p,n))\n",
    "temp_u,temp_s,temp_vh =  LA.svd(temp)\n",
    "\n",
    "true_K = 6\n",
    "true_B = temp_u[:,:true_K]@np.diag(temp_s[:true_K])\n",
    "true_F = temp_vh.T[:,:true_K]\n",
    "errors = rand.normal(size = (p,n))*c\n",
    "returns = true_B@true_F.T + errors\n",
    "\n",
    "signal = pd.Series(np.ones(p))"
   ]
  },
  {
   "cell_type": "code",
   "execution_count": 15,
   "metadata": {},
   "outputs": [
    {
     "name": "stdout",
     "output_type": "stream",
     "text": [
      "backtest-2021-Feb-22 02:01:07-__init__: ShrinkToIdentity initialized\n",
      "backtest-2021-Feb-22 02:01:07-optimize: Optimal K is 6\n",
      "backtest-2021-Feb-22 02:01:07-optimize: offdiagnal f-norm under C=0.2 is 0.0531\n"
     ]
    },
    {
     "data": {
      "text/plain": [
       "array([0.01390297, 0.00604776, 0.007464  , 0.00991726, 0.01035616,\n",
       "       0.0077557 , 0.01307507, 0.00813021, 0.00889522, 0.0100044 ,\n",
       "       0.00909759, 0.0117812 , 0.00921658, 0.00972147, 0.00849731,\n",
       "       0.00739705, 0.01212967, 0.00831121, 0.01300866, 0.00815562,\n",
       "       0.01147961, 0.00915036, 0.01670194, 0.00795584, 0.0124574 ,\n",
       "       0.01477995, 0.01013923, 0.01040963, 0.00567854, 0.01220117,\n",
       "       0.01081098, 0.01016651, 0.00899532, 0.01096248, 0.00952144,\n",
       "       0.00741788, 0.01364388, 0.00842481, 0.01177619, 0.01321186,\n",
       "       0.00655681, 0.01252246, 0.01187519, 0.00956167, 0.0077062 ,\n",
       "       0.00878962, 0.01045418, 0.01316003, 0.0083652 , 0.00747967,\n",
       "       0.00536865, 0.01260353, 0.00965487, 0.00721568, 0.01363581,\n",
       "       0.01386676, 0.01453695, 0.01153453, 0.00977448, 0.00709495,\n",
       "       0.00851572, 0.00876866, 0.0083318 , 0.00653354, 0.00771605,\n",
       "       0.01110796, 0.00927917, 0.00846805, 0.00669602, 0.01434645,\n",
       "       0.01295281, 0.01070698, 0.01029886, 0.0103633 , 0.00539855,\n",
       "       0.00868144, 0.00874795, 0.00641884, 0.00999166, 0.0091019 ,\n",
       "       0.0111705 , 0.00956328, 0.00827248, 0.0088144 , 0.01204379,\n",
       "       0.01085367, 0.01370679, 0.01135765, 0.00782385, 0.00734707,\n",
       "       0.01346355, 0.01013619, 0.00943225, 0.00944034, 0.01209215,\n",
       "       0.00846925, 0.01524557, 0.00859471, 0.00877543, 0.01046404])"
      ]
     },
     "execution_count": 15,
     "metadata": {},
     "output_type": "execute_result"
    }
   ],
   "source": [
    "opt = POET(C = 0.2)\n",
    "opt.optimize(signal = signal,returns = returns)"
   ]
  }
 ],
 "metadata": {
  "kernelspec": {
   "display_name": "Python 3",
   "language": "python",
   "name": "python3"
  },
  "language_info": {
   "codemirror_mode": {
    "name": "ipython",
    "version": 3
   },
   "file_extension": ".py",
   "mimetype": "text/x-python",
   "name": "python",
   "nbconvert_exporter": "python",
   "pygments_lexer": "ipython3",
   "version": "3.8.3"
  }
 },
 "nbformat": 4,
 "nbformat_minor": 2
}
